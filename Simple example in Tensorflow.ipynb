{
 "cells": [
  {
   "cell_type": "markdown",
   "metadata": {},
   "source": [
    "# Simple Example in Tensorflow\n",
    "Create a data set where X and y are linearly dependent and then use Tensorflow to estimate the linear model."
   ]
  },
  {
   "cell_type": "markdown",
   "metadata": {},
   "source": [
    "## Import"
   ]
  },
  {
   "cell_type": "code",
   "execution_count": 1,
   "metadata": {
    "collapsed": true
   },
   "outputs": [],
   "source": [
    "%matplotlib inline\n",
    "import matplotlib.pyplot as plt\n",
    "import tensorflow as tf\n",
    "import numpy as np"
   ]
  },
  {
   "cell_type": "markdown",
   "metadata": {},
   "source": [
    "## Create data. \n",
    "$y = X * 0.1 + 0.3 + error$"
   ]
  },
  {
   "cell_type": "code",
   "execution_count": 2,
   "metadata": {
    "collapsed": false
   },
   "outputs": [
    {
     "data": {
      "image/png": "[encoded data removed]",
      "text/plain": [
       "<matplotlib.figure.Figure at 0x105855080>"
      ]
     },
     "metadata": {},
     "output_type": "display_data"
    }
   ],
   "source": [
    "# Create 100 phony x, y data points in NumPy, y = x * 0.1 + 0.3\n",
    "x_data = np.random.rand(100).astype(np.float32)\n",
    "y_data = x_data * 0.5 - 0.8 + np.random.randn(len(x_data))*0.025\n",
    "\n",
    "plt.plot(x_data,y_data,'.')\n",
    "plt.xlabel('x_data')\n",
    "plt.ylabel('y_data')\n",
    "plt.show()"
   ]
  },
  {
   "cell_type": "code",
   "execution_count": 3,
   "metadata": {
    "collapsed": true
   },
   "outputs": [],
   "source": [
    "# Try to find values for W and b that compute y_data = W * x_data + b\n",
    "# Here W = 0.1 and b = -0.3\n",
    "# Set as variables W and b and initialize them\n",
    "W = tf.Variable(tf.random_uniform([1], -1.0, 1.0))\n",
    "b = tf.Variable(tf.zeros([1]))\n",
    "\n",
    "# Model for the data.\n",
    "y = W * x_data + b"
   ]
  },
  {
   "cell_type": "markdown",
   "metadata": {},
   "source": [
    "The loss(cost function) is calculated as the mean squared error. Use Gradient descent with a learning rate of 0.5 to minimize the loss."
   ]
  },
  {
   "cell_type": "code",
   "execution_count": 4,
   "metadata": {
    "collapsed": true
   },
   "outputs": [],
   "source": [
    "# Minimize the mean squared errors.\n",
    "loss = tf.reduce_mean(tf.square(y - y_data))\n",
    "optimizer = tf.train.GradientDescentOptimizer(0.3)\n",
    "train = optimizer.minimize(loss)"
   ]
  },
  {
   "cell_type": "markdown",
   "metadata": {},
   "source": [
    "## Running Tensorflow"
   ]
  },
  {
   "cell_type": "code",
   "execution_count": 5,
   "metadata": {
    "collapsed": false
   },
   "outputs": [
    {
     "name": "stdout",
     "output_type": "stream",
     "text": [
      "0 [-0.04844727] [-0.3658936]\n",
      "10 [ 0.08617638] [-0.57779211]\n",
      "20 [ 0.2167003] [-0.64929217]\n",
      "30 [ 0.3050479] [-0.69768834]\n",
      "40 [ 0.36484766] [-0.73044622]\n",
      "50 [ 0.40532431] [-0.75261903]\n",
      "60 [ 0.43272173] [-0.76762712]\n",
      "70 [ 0.4512662] [-0.77778566]\n",
      "80 [ 0.46381834] [-0.78466159]\n",
      "90 [ 0.47231451] [-0.78931576]\n",
      "100 [ 0.47806525] [-0.79246598]\n",
      "110 [ 0.48195782] [-0.79459828]\n",
      "120 [ 0.48459256] [-0.79604161]\n",
      "130 [ 0.48637596] [-0.79701853]\n",
      "140 [ 0.48758307] [-0.79767978]\n",
      "150 [ 0.48840013] [-0.79812735]\n",
      "160 [ 0.48895314] [-0.79843026]\n",
      "170 [ 0.48932749] [-0.79863536]\n",
      "180 [ 0.48958087] [-0.79877412]\n",
      "190 [ 0.48975235] [-0.79886806]\n",
      "200 [ 0.4898684] [-0.79893166]\n"
     ]
    }
   ],
   "source": [
    "# Before starting, initialize the variables.  We will 'run' this first.\n",
    "init = tf.global_variables_initializer()\n",
    "\n",
    "sess = tf.Session()\n",
    "sess.run(init)\n",
    "\n",
    "# Running the optimization. 200 iteration. Plot the values of W and b every 10 iterations.\n",
    "step_count = []\n",
    "W_count = []\n",
    "b_count = []\n",
    "for step in range(201):\n",
    "    sess.run(train)\n",
    "    if step % 10 == 0:\n",
    "        print(step, sess.run(W), sess.run(b))\n",
    "        step_count.append(step)\n",
    "        W_count.append(sess.run(W))\n",
    "        b_count.append(sess.run(b))\n",
    "\n"
   ]
  },
  {
   "cell_type": "markdown",
   "metadata": {},
   "source": [
    "The values of W and b converge to expected values in 100 interations. However, this will depend on the noise in the data and learning rate used."
   ]
  },
  {
   "cell_type": "code",
   "execution_count": 6,
   "metadata": {
    "collapsed": false
   },
   "outputs": [
    {
     "data": {
      "text/plain": [
       "<matplotlib.legend.Legend at 0x10e04a8d0>"
      ]
     },
     "execution_count": 6,
     "metadata": {},
     "output_type": "execute_result"
    },
    {
     "data": {
      "image/png": "[encoded data removed]",
      "text/plain": [
       "<matplotlib.figure.Figure at 0x10dd8f6a0>"
      ]
     },
     "metadata": {},
     "output_type": "display_data"
    }
   ],
   "source": [
    "# Plotting W and b\n",
    "plt.plot(step_count,W_count)\n",
    "plt.plot(step_count,b_count)\n",
    "plt.legend(['W','b'])"
   ]
  },
  {
   "cell_type": "code",
   "execution_count": 7,
   "metadata": {
    "collapsed": false
   },
   "outputs": [
    {
     "data": {
      "image/png": "[encoded data removed]",
      "text/plain": [
       "<matplotlib.figure.Figure at 0x10dd2c550>"
      ]
     },
     "metadata": {},
     "output_type": "display_data"
    }
   ],
   "source": [
    "# Plotting the \n",
    "y_pred = sess.run(W)*x_data + sess.run(b)\n",
    "plt.plot(x_data,y_data,'.')\n",
    "plt.plot(x_data,y_pred,'r-')\n",
    "plt.xlabel('x_data')\n",
    "plt.ylabel('y_data')\n",
    "plt.legend(['Original data','Fit'],loc='best')\n",
    "plt.show()"
   ]
  },
  {
   "cell_type": "markdown",
   "metadata": {},
   "source": [
    "####  Using placeholder. Useful when working in batch mode."
   ]
  },
  {
   "cell_type": "code",
   "execution_count": 8,
   "metadata": {
    "collapsed": false
   },
   "outputs": [],
   "source": [
    "rng = np.random\n",
    "X = tf.placeholder(\"float\") # store one value of x_data\n",
    "Y = tf.placeholder(\"float\") # store one value of y_data\n",
    "\n",
    "W1 = tf.Variable(rng.randn(),name=\"weight\") \n",
    "b1 = tf.Variable(rng.randn(),name=\"bias\")\n",
    "\n",
    "# Here since each value will be passes one at a time, the equation \n",
    "# changes to mulitplication.\n",
    "y_pred = tf.add(tf.mul(X,W1),b1) \n",
    "\n",
    "\n",
    "loss1 = tf.reduce_sum(tf.pow(y_pred-Y,2))/(2*len(x_data))\n",
    "\n",
    "optimizer1 = tf.train.GradientDescentOptimizer(0.5).minimize(loss1)\n",
    "\n"
   ]
  },
  {
   "cell_type": "code",
   "execution_count": 9,
   "metadata": {
    "collapsed": false
   },
   "outputs": [
    {
     "name": "stdout",
     "output_type": "stream",
     "text": [
      "0 0.153321 -0.0520867\n",
      "10 0.0720756 -0.571333\n",
      "20 0.186185 -0.634225\n",
      "30 0.269338 -0.679393\n",
      "40 0.329729 -0.712197\n",
      "50 0.373589 -0.736021\n",
      "60 0.405443 -0.753322\n",
      "70 0.428577 -0.765889\n",
      "80 0.445378 -0.775015\n",
      "90 0.457581 -0.781643\n",
      "100 0.466442 -0.786456\n",
      "110 0.472879 -0.789952\n",
      "120 0.477552 -0.792491\n",
      "130 0.480947 -0.794335\n",
      "140 0.483412 -0.795674\n",
      "150 0.485204 -0.796647\n",
      "160 0.486503 -0.797353\n",
      "170 0.487447 -0.797865\n",
      "180 0.488133 -0.798238\n",
      "190 0.488631 -0.798508\n",
      "200 0.488993 -0.798705\n"
     ]
    }
   ],
   "source": [
    "init = tf.global_variables_initializer()\n",
    "\n",
    "with tf.Session() as sess:\n",
    "    sess.run(init)\n",
    "    \n",
    "    for i in range (201):\n",
    "        \n",
    "        #During each epoch, a loop is ran to pass each value in dataset.\n",
    "        for (x,y) in zip(x_data,y_data):\n",
    "            sess.run(optimizer1,feed_dict={X:x,Y:y})\n",
    "            \n",
    "        if i%10 == 0:\n",
    "            print(i, sess.run(W1), sess.run(b1))\n",
    "            "
   ]
  },
  {
   "cell_type": "markdown",
   "metadata": {
    "collapsed": true
   },
   "source": [
    "We get similar answer as before. However, using 2 for loops make the entire process much slower.\n",
    "\n",
    "### Using placeholder for entire array"
   ]
  },
  {
   "cell_type": "code",
   "execution_count": 10,
   "metadata": {
    "collapsed": false
   },
   "outputs": [],
   "source": [
    "X2 = tf.placeholder(tf.float32,[len(x_data),])\n",
    "Y2 = tf.placeholder(tf.float32,[len(y_data),])\n",
    "\n",
    "W2 = tf.Variable(rng.randn(1),dtype=tf.float32,name = \"weight\") \n",
    "b2 = tf.Variable(rng.randn(1),dtype=tf.float32,name = \"bias\")\n",
    "\n",
    "y_pred2 = tf.add(tf.mul(X2,W2),b2)\n",
    "\n",
    "loss2 = tf.reduce_mean(tf.square(Y2-y_pred2))\n",
    "\n",
    "optimizer2 = tf.train.GradientDescentOptimizer(0.5).minimize(loss2)"
   ]
  },
  {
   "cell_type": "code",
   "execution_count": 11,
   "metadata": {
    "collapsed": false
   },
   "outputs": [
    {
     "name": "stdout",
     "output_type": "stream",
     "text": [
      "0 [-0.45040768] [-1.00799835]\n",
      "10 [ 0.16143768] [-0.61902195]\n",
      "20 [ 0.32009879] [-0.70593309]\n",
      "30 [ 0.40216902] [-0.75089061]\n",
      "40 [ 0.44462153] [-0.77414572]\n",
      "50 [ 0.46658093] [-0.78617495]\n",
      "60 [ 0.4779399] [-0.79239732]\n",
      "70 [ 0.48381552] [-0.79561591]\n",
      "80 [ 0.48685485] [-0.79728085]\n",
      "90 [ 0.48842698] [-0.79814202]\n",
      "100 [ 0.48924023] [-0.7985875]\n",
      "110 [ 0.48966092] [-0.79881799]\n",
      "120 [ 0.48987851] [-0.7989372]\n",
      "130 [ 0.48999101] [-0.79899883]\n",
      "140 [ 0.49004927] [-0.79903072]\n",
      "150 [ 0.49007934] [-0.79904723]\n",
      "160 [ 0.49009493] [-0.79905576]\n",
      "170 [ 0.49010298] [-0.79906017]\n",
      "180 [ 0.49010715] [-0.79906243]\n",
      "190 [ 0.49010935] [-0.79906362]\n",
      "200 [ 0.4901104] [-0.79906422]\n"
     ]
    }
   ],
   "source": [
    "init = tf.global_variables_initializer()\n",
    "\n",
    "with tf.Session() as sess:\n",
    "    sess.run(init)\n",
    "    for i in range(201):\n",
    "        sess.run(optimizer2,feed_dict={X2:x_data,Y2:y_data})\n",
    "        \n",
    "        if i%10 == 0:\n",
    "            print(i, sess.run(W2), sess.run(b2))\n",
    "            "
   ]
  },
  {
   "cell_type": "markdown",
   "metadata": {},
   "source": [
    "As you can see, that we have solved the linear regression in 3 different ways. Tensorflow provides great flexibibity in terms of how you want to setup the Tensor Graph."
   ]
  },
  {
   "cell_type": "code",
   "execution_count": null,
   "metadata": {
    "collapsed": true
   },
   "outputs": [],
   "source": []
  }
 ],
 "metadata": {
  "anaconda-cloud": {},
  "kernelspec": {
   "display_name": "Python 3",
   "language": "python",
   "name": "python3"
  },
  "language_info": {
   "codemirror_mode": {
    "name": "ipython",
    "version": 3
   },
   "file_extension": ".py",
   "mimetype": "text/x-python",
   "name": "python",
   "nbconvert_exporter": "python",
   "pygments_lexer": "ipython3",
   "version": "3.5.1"
  }
 },
 "nbformat": 4,
 "nbformat_minor": 1
}
